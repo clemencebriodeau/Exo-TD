{
 "cells": [
  {
   "cell_type": "code",
   "execution_count": 114,
   "metadata": {},
   "outputs": [],
   "source": [
    "import numpy as np\n",
    "from numpy import linalg as LA\n",
    "import matplotlib.pyplot as plt\n",
    "\n"
   ]
  },
  {
   "cell_type": "code",
   "execution_count": 115,
   "metadata": {},
   "outputs": [],
   "source": [
    "#Question 1\n",
    "#Soient c0 et c1 les coefficients de la droite de régression Dreg\n",
    "# 420 = 5.5*c1 + c0\n",
    "# 380 = 6*c1 + c0\n",
    "# 350 = 6.5*c1 + c0\n",
    "# 400 = 6*c1 + c0\n",
    "# 440 = 5*c1 + c0\n",
    "# 380 = 6.5*c1 + c0\n",
    "# 450 = 4.5*c1 + c0\n",
    "# 420 = 5*c1 + c0"
   ]
  },
  {
   "cell_type": "code",
   "execution_count": 148,
   "metadata": {},
   "outputs": [
    {
     "name": "stdout",
     "output_type": "stream",
     "text": [
      "A= [[1.  5.5]\n",
      " [1.  6. ]\n",
      " [1.  6.5]\n",
      " [1.  6. ]\n",
      " [1.  5. ]\n",
      " [1.  6.5]\n",
      " [1.  4.5]\n",
      " [1.  5. ]]\n",
      "b= [[420]\n",
      " [380]\n",
      " [350]\n",
      " [400]\n",
      " [440]\n",
      " [380]\n",
      " [450]\n",
      " [420]]\n"
     ]
    }
   ],
   "source": [
    "#question 2\n",
    "A=np.transpose([np.ones(8),(5.5,6,6.5,6,5,6.5,4.5,5)])\n",
    "b=np.transpose([np.array([420,380,350,400,440,380,450,420])])\n",
    "print(\"A=\",A)\n",
    "print(\"b=\",b)\n"
   ]
  },
  {
   "cell_type": "code",
   "execution_count": 149,
   "metadata": {},
   "outputs": [
    {
     "name": "stdout",
     "output_type": "stream",
     "text": [
      "M= [[  8.  45.]\n",
      " [ 45. 257.]] Y= [[ 3240.]\n",
      " [18060.]]\n"
     ]
    }
   ],
   "source": [
    "#Question 3.a)\n",
    "\n",
    "M=np.transpose(A).dot(A)\n",
    "Y=np.transpose(A).dot(b)\n",
    "print(\"M=\",M,\"Y=\",Y)\n"
   ]
  },
  {
   "cell_type": "code",
   "execution_count": 150,
   "metadata": {},
   "outputs": [
    {
     "data": {
      "text/plain": [
       "(array([1.17032818e-01, 2.64882967e+02]),\n",
       " array([[-0.98500084, -0.17254954],\n",
       "        [ 0.17254954, -0.98500084]]))"
      ]
     },
     "execution_count": 150,
     "metadata": {},
     "output_type": "execute_result"
    }
   ],
   "source": [
    "#Question 3.b)\n",
    "\n",
    "np.linalg.eig(M)\n",
    "#M a deux valeurs propres strictement positives, M est bien symétrique définie positive"
   ]
  },
  {
   "cell_type": "code",
   "execution_count": 151,
   "metadata": {},
   "outputs": [],
   "source": [
    "#Question 3.c.i)\n",
    "x0=np.transpose([np.zeros(2)])\n",
    "def MethGrad(M,Y,e,MaxIter,x0): \n",
    "    for k in range(MaxIter):\n",
    "        r=M@x0-Y\n",
    "        a=np.vdot(r,r)/np.vdot(M@r,r)\n",
    "        x = x0 - a*r\n",
    "        res = np.linalg.norm(x-x0)\n",
    "        if res < e: break\n",
    "        x0 = x    \n",
    "    return (k,x)\n"
   ]
  },
  {
   "cell_type": "code",
   "execution_count": 152,
   "metadata": {},
   "outputs": [
    {
     "data": {
      "text/plain": [
       "(18,\n",
       " array([[644.51612903],\n",
       "        [-42.58064516]]))"
      ]
     },
     "execution_count": 152,
     "metadata": {},
     "output_type": "execute_result"
    }
   ],
   "source": [
    "#Question 3)c)ii)\n",
    "\n",
    "e=10**(-10)\n",
    "MaxIter=1000\n",
    "MethGrad(M,Y,e,MaxIter,x0)\n",
    "\n"
   ]
  },
  {
   "cell_type": "code",
   "execution_count": 153,
   "metadata": {},
   "outputs": [],
   "source": [
    "x=MethGrad(M,Y,e,MaxIter,x0)[1]\n",
    "\n",
    "c0=x[0]\n",
    "c1=x[1]\n",
    "\n",
    "u=np.linspace(4,7)\n",
    "Dreg = c0 + c1 * u"
   ]
  },
  {
   "cell_type": "code",
   "execution_count": 154,
   "metadata": {},
   "outputs": [
    {
     "data": {
      "image/png": "[encoded data removed]",
      "text/plain": [
       "<Figure size 432x288 with 1 Axes>"
      ]
     },
     "metadata": {
      "needs_background": "light"
     },
     "output_type": "display_data"
    }
   ],
   "source": [
    "#Question 3.d)\n",
    "\n",
    "x1=[5.5,6,6.5,6,5,6.5,4.5,5]\n",
    "y1=[420,380,350,400,440,380,450,420]\n",
    "\n",
    "plt.scatter(x1,y1)\n",
    "plt.plot(u,Dreg)\n",
    "plt.xlabel('x')\n",
    "plt.ylabel('y')\n",
    "plt.show()"
   ]
  },
  {
   "cell_type": "code",
   "execution_count": null,
   "metadata": {},
   "outputs": [],
   "source": []
  }
 ],
 "metadata": {
  "kernelspec": {
   "display_name": "Python 3",
   "language": "python",
   "name": "python3"
  },
  "language_info": {
   "codemirror_mode": {
    "name": "ipython",
    "version": 3
   },
   "file_extension": ".py",
   "mimetype": "text/x-python",
   "name": "python",
   "nbconvert_exporter": "python",
   "pygments_lexer": "ipython3",
   "version": "3.8.3"
  }
 },
 "nbformat": 4,
 "nbformat_minor": 2
}
